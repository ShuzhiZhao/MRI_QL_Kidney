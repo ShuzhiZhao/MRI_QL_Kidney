{
 "cells": [
  {
   "cell_type": "code",
   "execution_count": 2,
   "id": "negative-recipe",
   "metadata": {
    "scrolled": true
   },
   "outputs": [],
   "source": [
    "from __future__ import print_function\n",
    "import six\n",
    "import os  # needed navigate the system to get the input data\n",
    "import SimpleITK as sitk\n",
    "import radiomics\n",
    "from radiomics import featureextractor  # This module is used for interaction with pyradiomics\n",
    "import nibabel as nib\n",
    "import nrrd\n",
    "import numpy as np"
   ]
  },
  {
   "cell_type": "code",
   "execution_count": 3,
   "id": "faced-gilbert",
   "metadata": {},
   "outputs": [
    {
     "name": "stdout",
     "output_type": "stream",
     "text": [
      "(256, 256, 16)\n"
     ]
    },
    {
     "ename": "ValueError",
     "evalue": "Image/Mask geometry mismatch. Potential fix: increase tolerance using geometryTolerance, see Documentation:Usage:Customizing the Extraction:Settings:geometryTolerance for more information",
     "output_type": "error",
     "traceback": [
      "\u001b[0;31m---------------------------------------------------------------------------\u001b[0m",
      "\u001b[0;31mRuntimeError\u001b[0m                              Traceback (most recent call last)",
      "\u001b[0;32m/media/lhj/Disk/INSTALL/anaconda3/envs/QL_radio/lib/python3.7/site-packages/radiomics/imageoperations.py\u001b[0m in \u001b[0;36mcheckMask\u001b[0;34m(imageNode, maskNode, **kwargs)\u001b[0m\n\u001b[1;32m    226\u001b[0m   \u001b[0;32mtry\u001b[0m\u001b[0;34m:\u001b[0m\u001b[0;34m\u001b[0m\u001b[0;34m\u001b[0m\u001b[0m\n\u001b[0;32m--> 227\u001b[0;31m     \u001b[0mlsif\u001b[0m\u001b[0;34m.\u001b[0m\u001b[0mExecute\u001b[0m\u001b[0;34m(\u001b[0m\u001b[0mimageNode\u001b[0m\u001b[0;34m,\u001b[0m \u001b[0mmaskNode\u001b[0m\u001b[0;34m)\u001b[0m\u001b[0;34m\u001b[0m\u001b[0;34m\u001b[0m\u001b[0m\n\u001b[0m\u001b[1;32m    228\u001b[0m \u001b[0;34m\u001b[0m\u001b[0m\n",
      "\u001b[0;32m/media/lhj/Disk/INSTALL/anaconda3/envs/QL_radio/lib/python3.7/site-packages/SimpleITK/SimpleITK.py\u001b[0m in \u001b[0;36mExecute\u001b[0;34m(self, image, labelImage)\u001b[0m\n\u001b[1;32m  16077\u001b[0m         \u001b[0;34mr\"\"\"Execute(LabelStatisticsImageFilter self, Image image, Image labelImage)\"\"\"\u001b[0m\u001b[0;34m\u001b[0m\u001b[0;34m\u001b[0m\u001b[0m\n\u001b[0;32m> 16078\u001b[0;31m         \u001b[0;32mreturn\u001b[0m \u001b[0m_SimpleITK\u001b[0m\u001b[0;34m.\u001b[0m\u001b[0mLabelStatisticsImageFilter_Execute\u001b[0m\u001b[0;34m(\u001b[0m\u001b[0mself\u001b[0m\u001b[0;34m,\u001b[0m \u001b[0mimage\u001b[0m\u001b[0;34m,\u001b[0m \u001b[0mlabelImage\u001b[0m\u001b[0;34m)\u001b[0m\u001b[0;34m\u001b[0m\u001b[0;34m\u001b[0m\u001b[0m\n\u001b[0m\u001b[1;32m  16079\u001b[0m \u001b[0;34m\u001b[0m\u001b[0m\n",
      "\u001b[0;31mRuntimeError\u001b[0m: Exception thrown in SimpleITK LabelStatisticsImageFilter_Execute: /media/lhj/Disk/INSTALL/anaconda3/envs/QL_radio/include/ITK-5.1/itkImageSink.hxx:241:\nitk::ERROR: itk::ERROR: LabelStatisticsImageFilter(0x55edb12a4cb0): Inputs do not occupy the same physical space! \nInputImage Origin: [0.0000000e+00, 0.0000000e+00, 0.0000000e+00], InputImagePrimary Origin: [-2.5022800e+02, -5.7263100e+00, 2.6054700e+02]\n\tTolerance: 1.0000000e-06\nInputImage Spacing: [1.0000000e+00, 1.0000000e+00, 1.0000000e+00], InputImagePrimary Spacing: [1.8750000e+00, 1.8750000e+00, 4.4000007e+00]\n\tTolerance: 1.0000000e-06\nInputImage Direction: 1.0000000e+00 0.0000000e+00 0.0000000e+00\n0.0000000e+00 1.0000000e+00 0.0000000e+00\n0.0000000e+00 0.0000000e+00 1.0000000e+00\n, InputImagePrimary Direction: 1.0000000e+00 0.0000000e+00 0.0000000e+00\n0.0000000e+00 -0.0000000e+00 1.0000000e+00\n0.0000000e+00 -1.0000000e+00 -0.0000000e+00\n\n\tTolerance: 1.0000000e-06\n",
      "\nDuring handling of the above exception, another exception occurred:\n",
      "\u001b[0;31mValueError\u001b[0m                                Traceback (most recent call last)",
      "\u001b[0;32m<ipython-input-3-28dcd5807eb1>\u001b[0m in \u001b[0;36m<module>\u001b[0;34m\u001b[0m\n\u001b[1;32m     19\u001b[0m \u001b[0mextractor\u001b[0m \u001b[0;34m=\u001b[0m \u001b[0mfeatureextractor\u001b[0m\u001b[0;34m.\u001b[0m\u001b[0mRadiomicsFeatureExtractor\u001b[0m\u001b[0;34m(\u001b[0m\u001b[0;34m)\u001b[0m\u001b[0;34m\u001b[0m\u001b[0;34m\u001b[0m\u001b[0m\n\u001b[1;32m     20\u001b[0m \u001b[0;31m# radiomics.featureextractor.RadiomicsFeatureExtractor(para_name)\u001b[0m\u001b[0;34m\u001b[0m\u001b[0;34m\u001b[0m\u001b[0;34m\u001b[0m\u001b[0m\n\u001b[0;32m---> 21\u001b[0;31m \u001b[0mresult\u001b[0m \u001b[0;34m=\u001b[0m \u001b[0mextractor\u001b[0m\u001b[0;34m.\u001b[0m\u001b[0mexecute\u001b[0m\u001b[0;34m(\u001b[0m\u001b[0mimagePath\u001b[0m\u001b[0;34m,\u001b[0m \u001b[0mfilename\u001b[0m\u001b[0;34m)\u001b[0m\u001b[0;34m\u001b[0m\u001b[0;34m\u001b[0m\u001b[0m\n\u001b[0m\u001b[1;32m     22\u001b[0m \u001b[0mprint\u001b[0m\u001b[0;34m(\u001b[0m\u001b[0mresult\u001b[0m\u001b[0;34m)\u001b[0m\u001b[0;34m\u001b[0m\u001b[0;34m\u001b[0m\u001b[0m\n",
      "\u001b[0;32m/media/lhj/Disk/INSTALL/anaconda3/envs/QL_radio/lib/python3.7/site-packages/radiomics/featureextractor.py\u001b[0m in \u001b[0;36mexecute\u001b[0;34m(self, imageFilepath, maskFilepath, label, label_channel, voxelBased)\u001b[0m\n\u001b[1;32m    269\u001b[0m     \u001b[0;31m# 2. Check whether loaded mask contains a valid ROI for feature extraction and get bounding box\u001b[0m\u001b[0;34m\u001b[0m\u001b[0;34m\u001b[0m\u001b[0;34m\u001b[0m\u001b[0m\n\u001b[1;32m    270\u001b[0m     \u001b[0;31m# Raises a ValueError if the ROI is invalid\u001b[0m\u001b[0;34m\u001b[0m\u001b[0;34m\u001b[0m\u001b[0;34m\u001b[0m\u001b[0m\n\u001b[0;32m--> 271\u001b[0;31m     \u001b[0mboundingBox\u001b[0m\u001b[0;34m,\u001b[0m \u001b[0mcorrectedMask\u001b[0m \u001b[0;34m=\u001b[0m \u001b[0mimageoperations\u001b[0m\u001b[0;34m.\u001b[0m\u001b[0mcheckMask\u001b[0m\u001b[0;34m(\u001b[0m\u001b[0mimage\u001b[0m\u001b[0;34m,\u001b[0m \u001b[0mmask\u001b[0m\u001b[0;34m,\u001b[0m \u001b[0;34m**\u001b[0m\u001b[0mself\u001b[0m\u001b[0;34m.\u001b[0m\u001b[0msettings\u001b[0m\u001b[0;34m)\u001b[0m\u001b[0;34m\u001b[0m\u001b[0;34m\u001b[0m\u001b[0m\n\u001b[0m\u001b[1;32m    272\u001b[0m \u001b[0;34m\u001b[0m\u001b[0m\n\u001b[1;32m    273\u001b[0m     \u001b[0;31m# Update the mask if it had to be resampled\u001b[0m\u001b[0;34m\u001b[0m\u001b[0;34m\u001b[0m\u001b[0;34m\u001b[0m\u001b[0m\n",
      "\u001b[0;32m/media/lhj/Disk/INSTALL/anaconda3/envs/QL_radio/lib/python3.7/site-packages/radiomics/imageoperations.py\u001b[0m in \u001b[0;36mcheckMask\u001b[0;34m(imageNode, maskNode, **kwargs)\u001b[0m\n\u001b[1;32m    240\u001b[0m       \u001b[0;32melif\u001b[0m \u001b[0;34m\"Inputs do not occupy the same physical space!\"\u001b[0m \u001b[0;32min\u001b[0m \u001b[0me\u001b[0m\u001b[0;34m.\u001b[0m\u001b[0margs\u001b[0m\u001b[0;34m[\u001b[0m\u001b[0;36m0\u001b[0m\u001b[0;34m]\u001b[0m\u001b[0;34m:\u001b[0m\u001b[0;34m\u001b[0m\u001b[0;34m\u001b[0m\u001b[0m\n\u001b[1;32m    241\u001b[0m         \u001b[0mlogger\u001b[0m\u001b[0;34m.\u001b[0m\u001b[0mdebug\u001b[0m\u001b[0;34m(\u001b[0m\u001b[0;34m'Additional information on error.'\u001b[0m\u001b[0;34m,\u001b[0m \u001b[0mexc_info\u001b[0m\u001b[0;34m=\u001b[0m\u001b[0;32mTrue\u001b[0m\u001b[0;34m)\u001b[0m\u001b[0;34m\u001b[0m\u001b[0;34m\u001b[0m\u001b[0m\n\u001b[0;32m--> 242\u001b[0;31m         raise ValueError('Image/Mask geometry mismatch. Potential fix: increase tolerance using geometryTolerance, '\n\u001b[0m\u001b[1;32m    243\u001b[0m                          \u001b[0;34m'see Documentation:Usage:Customizing the Extraction:Settings:geometryTolerance for more '\u001b[0m\u001b[0;34m\u001b[0m\u001b[0;34m\u001b[0m\u001b[0m\n\u001b[1;32m    244\u001b[0m                          'information')\n",
      "\u001b[0;31mValueError\u001b[0m: Image/Mask geometry mismatch. Potential fix: increase tolerance using geometryTolerance, see Documentation:Usage:Customizing the Extraction:Settings:geometryTolerance for more information"
     ]
    }
   ],
   "source": [
    "# Get the testCase\n",
    "imagePath = '/media/lhj/Disk/qianlong/test_data/data/pat001/fa.nrrd'\n",
    "maskPath = '/media/lhj/Disk/qianlong/test_data/data/pat001/pat001_mask.nii'\n",
    "para_name = '/media/lhj/Disk/qianlong/Script/feature_benchmark/Radiomics_FenKai/Radiomics_FenKai/MR_MAGiC.yaml'\n",
    "# img = nib.load(maskPath)\n",
    "# print(img)\n",
    "# img1 = nrrd.read(imagePath)\n",
    "# print(img1)\n",
    "# img_affine  = img.affine\n",
    "# img = img.get_data()\n",
    "itk_img = sitk.ReadImage(maskPath)\n",
    "img = sitk.GetArrayFromImage(itk_img)\n",
    "img = np.transpose(img,(1,2,0))\n",
    "print(img.shape)\n",
    "filename = '/media/lhj/Disk/qianlong/test_data/data/pat001/mask.nrrd'\n",
    "# # Write to a NRRD file\n",
    "nrrd.write(filename, img)\n",
    "# Instantiate the extractor\n",
    "extractor = featureextractor.RadiomicsFeatureExtractor()\n",
    "# radiomics.featureextractor.RadiomicsFeatureExtractor(para_name)\n",
    "result = extractor.execute(imagePath, filename)\n",
    "print(result)"
   ]
  },
  {
   "cell_type": "code",
   "execution_count": 19,
   "id": "dangerous-future",
   "metadata": {},
   "outputs": [
    {
     "name": "stdout",
     "output_type": "stream",
     "text": [
      "[[[-256 -256 -256 ... -256 -256 -256]\n",
      "  [-256 -256 -256 ... -256 -256 -256]\n",
      "  [-256 -256 -256 ... -256 -256 -256]\n",
      "  ...\n",
      "  [-256 -256 -256 ... -256 -256 -256]\n",
      "  [-256 -256 -256 ... -256 -256 -256]\n",
      "  [-256 -256 -256 ... -256 -256 -256]]\n",
      "\n",
      " [[-256 -256 -256 ... -256 -256 -256]\n",
      "  [-256 -256 -256 ... -256 -256 -256]\n",
      "  [-256 -256 -256 ... -256 -256 -256]\n",
      "  ...\n",
      "  [-256 -256 -256 ... -256 -256 -256]\n",
      "  [-256 -256 -256 ... -256 -256 -256]\n",
      "  [-256 -256 -256 ... -256 -256 -256]]\n",
      "\n",
      " [[-256 -256 -256 ... -256 -256 -256]\n",
      "  [-256 -256 -256 ... -256 -256 -256]\n",
      "  [-256 -256 -256 ... -256 -256 -256]\n",
      "  ...\n",
      "  [-256 -256 -256 ... -256 -256 -256]\n",
      "  [-256 -256 -256 ... -256 -256 -256]\n",
      "  [-256 -256 -256 ... -256 -256 -256]]\n",
      "\n",
      " ...\n",
      "\n",
      " [[-256 -256 -256 ... -256 -256 -256]\n",
      "  [-256 -256 -256 ... -256 -256 -256]\n",
      "  [-256 -256 -256 ... -256 -256 -256]\n",
      "  ...\n",
      "  [-256 -256 -256 ... -256 -256 -256]\n",
      "  [-256 -256 -256 ... -256 -256 -256]\n",
      "  [-256 -256 -256 ... -256 -256 -256]]\n",
      "\n",
      " [[-256 -256 -256 ... -256 -256 -256]\n",
      "  [-256 -256 -256 ... -256 -256 -256]\n",
      "  [-256 -256 -256 ... -256 -256 -256]\n",
      "  ...\n",
      "  [-256 -256 -256 ... -256 -256 -256]\n",
      "  [-256 -256 -256 ... -256 -256 -256]\n",
      "  [-256 -256 -256 ... -256 -256 -256]]\n",
      "\n",
      " [[-256 -256 -256 ... -256 -256 -256]\n",
      "  [-256 -256 -256 ... -256 -256 -256]\n",
      "  [-256 -256 -256 ... -256 -256 -256]\n",
      "  ...\n",
      "  [-256 -256 -256 ... -256 -256 -256]\n",
      "  [-256 -256 -256 ... -256 -256 -256]\n",
      "  [-256 -256 -256 ... -256 -256 -256]]]\n"
     ]
    }
   ],
   "source": [
    "maskPath = '/media/lhj/Disk/qianlong/test_data/data/pat001/pat001_mask.nii'\n",
    "faPath = '/media/lhj/Disk/qianlong/test_data/data/pat001/faa.nii'\n",
    "itk_img = sitk.ReadImage(faPath)\n",
    "# print(itk_img)\n",
    "img = sitk.GetArrayFromImage(itk_img)#这里主要是为了读取nii原图像array然后索引单张dicom，对每张图像添加header信息\n",
    "print(img)\n",
    "pixel = itk_img.GetMetaData('pixdim[1]')"
   ]
  },
  {
   "cell_type": "code",
   "execution_count": null,
   "id": "authorized-coffee",
   "metadata": {},
   "outputs": [],
   "source": []
  }
 ],
 "metadata": {
  "kernelspec": {
   "display_name": "Python 3",
   "language": "python",
   "name": "python3"
  },
  "language_info": {
   "codemirror_mode": {
    "name": "ipython",
    "version": 3
   },
   "file_extension": ".py",
   "mimetype": "text/x-python",
   "name": "python",
   "nbconvert_exporter": "python",
   "pygments_lexer": "ipython3",
   "version": "3.7.9"
  }
 },
 "nbformat": 4,
 "nbformat_minor": 5
}
